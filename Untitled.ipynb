{
 "cells": [
  {
   "cell_type": "code",
   "execution_count": null,
   "metadata": {},
   "outputs": [],
   "source": [
    "import pandas as pd\n",
    "from pandas import Series, DataFrame\n",
    "import sqlite3\n",
    "import matplotlib\n",
    "import numpy as np\n",
    "matplotlib.rcParams.update({'font.size': 15})\n",
    "%matplotlib inline\n",
    "data = pd.read_csv('spend.csv')\n",
    "L = DataFrame(data)\n",
    "L = L.rename(columns = {\"Account Type\": \"Account_type\"})\n",
    "L = L.rename(columns = {\"Character Code\": \"Character_code\"})\n",
    "L = L.rename(columns = {\"2015\": \"year_2015\"})\n",
    "L = L.rename(columns = {\"2016\": \"year_2016\"})\n",
    "L = L.rename(columns = {\"2017\": \"year_2017\"})\n",
    "L = L.rename(columns = {\"2018\": \"year_2018\"})\n",
    "L[\"Agency\"] = L[\"Agency\"].str.replace(\" - \", \"\", regex = False)\n",
    "L = L.fillna(0)\n",
    "\n",
    "L[\"year_2015\"] = np.abs(L[\"year_2015\"]) \n",
    "L[\"year_2016\"] = np.abs(L[\"year_2016\"]) \n",
    "L[\"year_2017\"] = np.abs(L[\"year_2017\"]) \n",
    "L[\"year_2018\"] = np.abs(L[\"year_2018\"]) \n",
    "L1 = L[L[\"Agency\"] == \"15 FINANCE\"]\n",
    "L1"
   ]
  },
  {
   "cell_type": "code",
   "execution_count": null,
   "metadata": {},
   "outputs": [],
   "source": [
    "conn = sqlite3.connect('data.db')\n",
    "L1.to_sql(\"data_table\", conn, if_exists=\"replace\", index=False)\n",
    "df1 = pd.read_sql(\"select Character_code, SUM(year_2015) as year2015, SUM(year_2016) as year2016, SUM(year_2017) as year2017, SUM(year_2018) as year2018 from data_table group by Character_code\", conn)\n",
    "\n",
    "df1.plot.bar(x = \"Character_code\")\n",
    "None\n",
    "df1"
   ]
  },
  {
   "cell_type": "code",
   "execution_count": null,
   "metadata": {},
   "outputs": [],
   "source": [
    "df2 = pd.read_sql(\"select Organization, SUM(year_2015) as year2015, SUM(year_2016) as year2016, SUM(year_2017) as year2017, SUM(year_2018) as year2018 from data_table group by Organization\", conn)\n",
    "\n",
    "df2.plot.bar(x = \"Organization\")\n",
    "None \n",
    "df2"
   ]
  },
  {
   "cell_type": "code",
   "execution_count": null,
   "metadata": {},
   "outputs": [],
   "source": []
  },
  {
   "cell_type": "code",
   "execution_count": null,
   "metadata": {},
   "outputs": [],
   "source": []
  },
  {
   "cell_type": "code",
   "execution_count": null,
   "metadata": {},
   "outputs": [],
   "source": []
  },
  {
   "cell_type": "code",
   "execution_count": null,
   "metadata": {},
   "outputs": [],
   "source": []
  },
  {
   "cell_type": "code",
   "execution_count": null,
   "metadata": {},
   "outputs": [],
   "source": []
  },
  {
   "cell_type": "code",
   "execution_count": null,
   "metadata": {},
   "outputs": [],
   "source": []
  },
  {
   "cell_type": "code",
   "execution_count": null,
   "metadata": {},
   "outputs": [],
   "source": []
  }
 ],
 "metadata": {
  "kernelspec": {
   "display_name": "Python 3",
   "language": "python",
   "name": "python3"
  },
  "language_info": {
   "codemirror_mode": {
    "name": "ipython",
    "version": 3
   },
   "file_extension": ".py",
   "mimetype": "text/x-python",
   "name": "python",
   "nbconvert_exporter": "python",
   "pygments_lexer": "ipython3",
   "version": "3.6.5"
  }
 },
 "nbformat": 4,
 "nbformat_minor": 2
}
